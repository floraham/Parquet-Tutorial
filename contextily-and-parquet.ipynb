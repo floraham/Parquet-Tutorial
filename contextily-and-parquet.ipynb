{
 "cells": [
  {
   "cell_type": "code",
   "execution_count": 1,
   "id": "5fa3ea1a-0d5e-4fe0-849e-ca1f5d1a0d2d",
   "metadata": {
    "tags": []
   },
   "outputs": [],
   "source": [
    "# Parquet and GeoParquet tutorial "
   ]
  },
  {
   "cell_type": "markdown",
   "id": "e19c19c0-7df5-40b2-9ac6-fb4253228261",
   "metadata": {},
   "source": [
    "**Apache Parquet** or justParquet is an open-source, column-oriented file format that makes it faster to retrieve data and uses less memory space for tabular data, than say csv files. \n",
    "\n",
    "\n",
    "It is very popular for big data repositories. \n",
    "\n",
    "The geospatial version of parquet for storing vector data is the **GeoParquet**. \n",
    "\n",
    "This format comes from the necessity to have an fficient and standardized format to store big data efficiently. \n",
    "\n",
    "It was first introduced in December 2022. \n",
    "\n",
    "This tutorial will be focused on GeoParquet\n",
    "\n",
    "## First do a catalog search\n",
    "\n",
    "import all necessary libraries. "
   ]
  },
  {
   "cell_type": "code",
   "execution_count": 13,
   "id": "d5bb4e50-4496-442d-8554-9f320578a43c",
   "metadata": {
    "tags": []
   },
   "outputs": [],
   "source": [
    "import geopandas as gpd\n",
    "import matplotlib.pyplot as plt \n",
    "\n",
    "import pystac_client \n",
    "import planetary_computer\n",
    "\n",
    "import contextily as ctx # adding basemaps"
   ]
  },
  {
   "cell_type": "markdown",
   "id": "eab54cd3-a832-4438-bd9b-8dfc98a49fd0",
   "metadata": {},
   "source": [
    "We use the 2020 US Census collection id `us-census` to look for the data in the MPC catalog. \n",
    "\n",
    "This collection has each tabular file as an item: "
   ]
  },
  {
   "cell_type": "code",
   "execution_count": 7,
   "id": "f28819bd-54e0-4c92-8718-b33119060ce3",
   "metadata": {
    "tags": []
   },
   "outputs": [],
   "source": [
    "# open MPC catalog \n",
    "catalog = pystac_client.Client.open(\"https://planetarycomputer.microsoft.com/api/stac/v1\", modifier = planetary_computer.sign_inplace,)\n",
    "\n",
    "#search for census collection \n",
    "search = catalog.search(collections=['us-census'])\n",
    "\n",
    "#retrieve items \n",
    "items = {item.id : item for item in search.items()}"
   ]
  },
  {
   "cell_type": "code",
   "execution_count": 8,
   "id": "c3ce4eef-78df-4887-a24e-b226241efc7d",
   "metadata": {
    "tags": []
   },
   "outputs": [],
   "source": [
    "item = items ['2020-cb_2020_us_county_500k']"
   ]
  },
  {
   "cell_type": "code",
   "execution_count": 10,
   "id": "f4b106ea-5e96-4d21-bf2d-686cba0ad612",
   "metadata": {
    "tags": []
   },
   "outputs": [],
   "source": [
    "asset = item.assets['data']"
   ]
  },
  {
   "cell_type": "code",
   "execution_count": 20,
   "id": "39ca42fd-a1c8-4619-86f6-c167c74dd370",
   "metadata": {
    "tags": []
   },
   "outputs": [],
   "source": [
    "#Opening \n",
    "\n",
    "counties = gpd.read_parquet(asset.href, \n",
    "                            storage_options = asset.extra_fields['table:storage_options'])"
   ]
  },
  {
   "cell_type": "code",
   "execution_count": 21,
   "id": "1d71d23c-7738-4d34-b4fd-56f02f3a5067",
   "metadata": {
    "tags": []
   },
   "outputs": [
    {
     "data": {
      "text/plain": [
       "geopandas.geodataframe.GeoDataFrame"
      ]
     },
     "execution_count": 21,
     "metadata": {},
     "output_type": "execute_result"
    }
   ],
   "source": [
    "type(counties)"
   ]
  },
  {
   "cell_type": "markdown",
   "id": "86efcad5-1ed1-41fa-9240-15ac68e87ad9",
   "metadata": {},
   "source": [
    "### Contextily \n",
    "\n",
    "this is a python library to add basemaps. \n",
    "\n",
    "Retrieves tile maps from the internet and makes it possible toplot the alongside our vector data. \n",
    "\n",
    "** Example** \n",
    "\n",
    "We want tto plot the Santa Barbara county polygon together with a basemap. \n"
   ]
  },
  {
   "cell_type": "code",
   "execution_count": 24,
   "id": "b2aa08bf-b249-4402-867c-5b98da5585e3",
   "metadata": {
    "tags": []
   },
   "outputs": [
    {
     "data": {
      "text/html": [
       "<div>\n",
       "<style scoped>\n",
       "    .dataframe tbody tr th:only-of-type {\n",
       "        vertical-align: middle;\n",
       "    }\n",
       "\n",
       "    .dataframe tbody tr th {\n",
       "        vertical-align: top;\n",
       "    }\n",
       "\n",
       "    .dataframe thead th {\n",
       "        text-align: right;\n",
       "    }\n",
       "</style>\n",
       "<table border=\"1\" class=\"dataframe\">\n",
       "  <thead>\n",
       "    <tr style=\"text-align: right;\">\n",
       "      <th></th>\n",
       "      <th>STATEFP</th>\n",
       "      <th>COUNTYFP</th>\n",
       "      <th>COUNTYNS</th>\n",
       "      <th>AFFGEOID</th>\n",
       "      <th>GEOID</th>\n",
       "      <th>NAME</th>\n",
       "      <th>NAMELSAD</th>\n",
       "      <th>STUSPS</th>\n",
       "      <th>STATE_NAME</th>\n",
       "      <th>LSAD</th>\n",
       "      <th>ALAND</th>\n",
       "      <th>AWATER</th>\n",
       "      <th>geometry</th>\n",
       "    </tr>\n",
       "  </thead>\n",
       "  <tbody>\n",
       "    <tr>\n",
       "      <th>1222</th>\n",
       "      <td>06</td>\n",
       "      <td>083</td>\n",
       "      <td>00277306</td>\n",
       "      <td>0500000US06083</td>\n",
       "      <td>06083</td>\n",
       "      <td>Santa Barbara</td>\n",
       "      <td>Santa Barbara County</td>\n",
       "      <td>CA</td>\n",
       "      <td>California</td>\n",
       "      <td>06</td>\n",
       "      <td>7080860393</td>\n",
       "      <td>2729213352</td>\n",
       "      <td>MULTIPOLYGON (((-119.04704 33.48382, -119.0384...</td>\n",
       "    </tr>\n",
       "  </tbody>\n",
       "</table>\n",
       "</div>"
      ],
      "text/plain": [
       "     STATEFP COUNTYFP  COUNTYNS        AFFGEOID  GEOID           NAME  \\\n",
       "1222      06      083  00277306  0500000US06083  06083  Santa Barbara   \n",
       "\n",
       "                  NAMELSAD STUSPS  STATE_NAME LSAD       ALAND      AWATER  \\\n",
       "1222  Santa Barbara County     CA  California   06  7080860393  2729213352   \n",
       "\n",
       "                                               geometry  \n",
       "1222  MULTIPOLYGON (((-119.04704 33.48382, -119.0384...  "
      ]
     },
     "execution_count": 24,
     "metadata": {},
     "output_type": "execute_result"
    }
   ],
   "source": [
    "sb = counties[counties.NAME == \"Santa Barbara\"]\n",
    "sb"
   ]
  },
  {
   "cell_type": "code",
   "execution_count": 25,
   "id": "affd76e2-ad89-4bdd-bdd3-4d814cd760a2",
   "metadata": {
    "tags": []
   },
   "outputs": [
    {
     "data": {
      "text/plain": [
       "<Axes: >"
      ]
     },
     "execution_count": 25,
     "metadata": {},
     "output_type": "execute_result"
    },
    {
     "data": {
      "image/png": "[encoded data removed]",
      "text/plain": [
       "<Figure size 640x480 with 1 Axes>"
      ]
     },
     "metadata": {},
     "output_type": "display_data"
    }
   ],
   "source": [
    "sb.plot() "
   ]
  },
  {
   "cell_type": "markdown",
   "id": "e955be79-0161-474f-8bbf-3051ca5d02b5",
   "metadata": {},
   "source": [
    "Contextily's tiles can be reprojected to match the CRS of our vector data, but...... it can be easier to reproject your vector to EPSG 3857 instead. \n",
    "\n",
    "The CRS EPSG 3857 is a projected CRS used for rendering maps online. For example in Google Maps or OpenStreet maps"
   ]
  },
  {
   "cell_type": "code",
   "execution_count": 31,
   "id": "e136f1db-1c84-4bed-9ee4-09bc7ca7e777",
   "metadata": {
    "tags": []
   },
   "outputs": [
    {
     "ename": "ValueError",
     "evalue": "The 'url' dict should at least contain a 'url' key",
     "output_type": "error",
     "traceback": [
      "\u001b[0;31m---------------------------------------------------------------------------\u001b[0m",
      "\u001b[0;31mValueError\u001b[0m                                Traceback (most recent call last)",
      "Cell \u001b[0;32mIn[31], line 7\u001b[0m\n\u001b[1;32m      3\u001b[0m sb\u001b[38;5;241m.\u001b[39mto_crs(epsg\u001b[38;5;241m=\u001b[39m\u001b[38;5;241m3857\u001b[39m)\u001b[38;5;241m.\u001b[39mplot(ax\u001b[38;5;241m=\u001b[39max, figsize \u001b[38;5;241m=\u001b[39m (\u001b[38;5;241m7\u001b[39m,\u001b[38;5;241m7\u001b[39m), alpha \u001b[38;5;241m=\u001b[39m \u001b[38;5;241m0.5\u001b[39m, edgecolor \u001b[38;5;241m=\u001b[39m \u001b[38;5;124m'\u001b[39m\u001b[38;5;124mk\u001b[39m\u001b[38;5;124m'\u001b[39m)\n\u001b[1;32m      5\u001b[0m  \u001b[38;5;66;03m#add basemap \u001b[39;00m\n\u001b[0;32m----> 7\u001b[0m \u001b[43mctx\u001b[49m\u001b[38;5;241;43m.\u001b[39;49m\u001b[43madd_basemap\u001b[49m\u001b[43m(\u001b[49m\u001b[43max\u001b[49m\u001b[43m,\u001b[49m\u001b[43m \u001b[49m\u001b[43msource\u001b[49m\u001b[38;5;241;43m=\u001b[39;49m\u001b[43mctx\u001b[49m\u001b[38;5;241;43m.\u001b[39;49m\u001b[43mproviders\u001b[49m\u001b[38;5;241;43m.\u001b[39;49m\u001b[43mEsri\u001b[49m\u001b[43m)\u001b[49m\n\u001b[1;32m      9\u001b[0m  \u001b[38;5;66;03m#update axes\u001b[39;00m\n\u001b[1;32m     11\u001b[0m ax\u001b[38;5;241m.\u001b[39mset_title(\u001b[38;5;124m\"\u001b[39m\u001b[38;5;124mSanta Barbara County\u001b[39m\u001b[38;5;124m\"\u001b[39m, fontdict\u001b[38;5;241m=\u001b[39m{\u001b[38;5;124m\"\u001b[39m\u001b[38;5;124mfontsize\u001b[39m\u001b[38;5;124m\"\u001b[39m: \u001b[38;5;124m\"\u001b[39m\u001b[38;5;124m20\u001b[39m\u001b[38;5;124m\"\u001b[39m})\n",
      "File \u001b[0;32m/srv/conda/envs/notebook/lib/python3.11/site-packages/contextily/plotting.py:129\u001b[0m, in \u001b[0;36madd_basemap\u001b[0;34m(ax, zoom, source, interpolation, attribution, attribution_size, reset_extent, crs, resampling, **extra_imshow_args)\u001b[0m\n\u001b[1;32m    125\u001b[0m     left, right, bottom, top \u001b[38;5;241m=\u001b[39m _reproj_bb(\n\u001b[1;32m    126\u001b[0m         left, right, bottom, top, crs, {\u001b[38;5;124m\"\u001b[39m\u001b[38;5;124minit\u001b[39m\u001b[38;5;124m\"\u001b[39m: \u001b[38;5;124m\"\u001b[39m\u001b[38;5;124mepsg:3857\u001b[39m\u001b[38;5;124m\"\u001b[39m}\n\u001b[1;32m    127\u001b[0m     )\n\u001b[1;32m    128\u001b[0m \u001b[38;5;66;03m# Download image\u001b[39;00m\n\u001b[0;32m--> 129\u001b[0m image, extent \u001b[38;5;241m=\u001b[39m \u001b[43mbounds2img\u001b[49m\u001b[43m(\u001b[49m\n\u001b[1;32m    130\u001b[0m \u001b[43m    \u001b[49m\u001b[43mleft\u001b[49m\u001b[43m,\u001b[49m\u001b[43m \u001b[49m\u001b[43mbottom\u001b[49m\u001b[43m,\u001b[49m\u001b[43m \u001b[49m\u001b[43mright\u001b[49m\u001b[43m,\u001b[49m\u001b[43m \u001b[49m\u001b[43mtop\u001b[49m\u001b[43m,\u001b[49m\u001b[43m \u001b[49m\u001b[43mzoom\u001b[49m\u001b[38;5;241;43m=\u001b[39;49m\u001b[43mzoom\u001b[49m\u001b[43m,\u001b[49m\u001b[43m \u001b[49m\u001b[43msource\u001b[49m\u001b[38;5;241;43m=\u001b[39;49m\u001b[43msource\u001b[49m\u001b[43m,\u001b[49m\u001b[43m \u001b[49m\u001b[43mll\u001b[49m\u001b[38;5;241;43m=\u001b[39;49m\u001b[38;5;28;43;01mFalse\u001b[39;49;00m\n\u001b[1;32m    131\u001b[0m \u001b[43m\u001b[49m\u001b[43m)\u001b[49m\n\u001b[1;32m    132\u001b[0m \u001b[38;5;66;03m# Warping\u001b[39;00m\n\u001b[1;32m    133\u001b[0m \u001b[38;5;28;01mif\u001b[39;00m crs \u001b[38;5;129;01mis\u001b[39;00m \u001b[38;5;129;01mnot\u001b[39;00m \u001b[38;5;28;01mNone\u001b[39;00m:\n",
      "File \u001b[0;32m/srv/conda/envs/notebook/lib/python3.11/site-packages/contextily/tile.py:210\u001b[0m, in \u001b[0;36mbounds2img\u001b[0;34m(w, s, e, n, zoom, source, ll, wait, max_retries)\u001b[0m\n\u001b[1;32m    207\u001b[0m     e, n \u001b[38;5;241m=\u001b[39m _sm2ll(e, n)\n\u001b[1;32m    209\u001b[0m \u001b[38;5;66;03m# get provider dict given the url\u001b[39;00m\n\u001b[0;32m--> 210\u001b[0m provider \u001b[38;5;241m=\u001b[39m \u001b[43m_process_source\u001b[49m\u001b[43m(\u001b[49m\u001b[43msource\u001b[49m\u001b[43m)\u001b[49m\n\u001b[1;32m    211\u001b[0m \u001b[38;5;66;03m# calculate and validate zoom level\u001b[39;00m\n\u001b[1;32m    212\u001b[0m auto_zoom \u001b[38;5;241m=\u001b[39m zoom \u001b[38;5;241m==\u001b[39m \u001b[38;5;124m\"\u001b[39m\u001b[38;5;124mauto\u001b[39m\u001b[38;5;124m\"\u001b[39m\n",
      "File \u001b[0;32m/srv/conda/envs/notebook/lib/python3.11/site-packages/contextily/tile.py:244\u001b[0m, in \u001b[0;36m_process_source\u001b[0;34m(source)\u001b[0m\n\u001b[1;32m    240\u001b[0m     \u001b[38;5;28;01mraise\u001b[39;00m \u001b[38;5;167;01mTypeError\u001b[39;00m(\n\u001b[1;32m    241\u001b[0m         \u001b[38;5;124m\"\u001b[39m\u001b[38;5;124mThe \u001b[39m\u001b[38;5;124m'\u001b[39m\u001b[38;5;124murl\u001b[39m\u001b[38;5;124m'\u001b[39m\u001b[38;5;124m needs to be a xyzservices.TileProvider object or string\u001b[39m\u001b[38;5;124m\"\u001b[39m\n\u001b[1;32m    242\u001b[0m     )\n\u001b[1;32m    243\u001b[0m \u001b[38;5;28;01melif\u001b[39;00m \u001b[38;5;124m\"\u001b[39m\u001b[38;5;124murl\u001b[39m\u001b[38;5;124m\"\u001b[39m \u001b[38;5;129;01mnot\u001b[39;00m \u001b[38;5;129;01min\u001b[39;00m source:\n\u001b[0;32m--> 244\u001b[0m     \u001b[38;5;28;01mraise\u001b[39;00m \u001b[38;5;167;01mValueError\u001b[39;00m(\u001b[38;5;124m\"\u001b[39m\u001b[38;5;124mThe \u001b[39m\u001b[38;5;124m'\u001b[39m\u001b[38;5;124murl\u001b[39m\u001b[38;5;124m'\u001b[39m\u001b[38;5;124m dict should at least contain a \u001b[39m\u001b[38;5;124m'\u001b[39m\u001b[38;5;124murl\u001b[39m\u001b[38;5;124m'\u001b[39m\u001b[38;5;124m key\u001b[39m\u001b[38;5;124m\"\u001b[39m)\n\u001b[1;32m    245\u001b[0m \u001b[38;5;28;01melse\u001b[39;00m:\n\u001b[1;32m    246\u001b[0m     provider \u001b[38;5;241m=\u001b[39m source\n",
      "\u001b[0;31mValueError\u001b[0m: The 'url' dict should at least contain a 'url' key"
     ]
    },
    {
     "data": {
      "image/png": "[encoded data removed]",
      "text/plain": [
       "<Figure size 640x480 with 1 Axes>"
      ]
     },
     "metadata": {},
     "output_type": "display_data"
    }
   ],
   "source": [
    "fig, ax = plt.subplots() \n",
    "\n",
    "sb.to_crs(epsg=3857).plot(ax=ax, figsize = (7,7), alpha = 0.5, edgecolor = 'k')\n",
    " \n",
    " #add basemap \n",
    " \n",
    "ctx.add_basemap(ax, source=ctx.providers.Esri)\n",
    " \n",
    " #update axes\n",
    " \n",
    "ax.set_title(\"Santa Barbara County\", fontdict={\"fontsize\": \"20\"})\n",
    "                                              #  ax.set_axis_off() "
   ]
  }
 ],
 "metadata": {
  "kernelspec": {
   "display_name": "Python 3 (ipykernel)",
   "language": "python",
   "name": "python3"
  },
  "language_info": {
   "codemirror_mode": {
    "name": "ipython",
    "version": 3
   },
   "file_extension": ".py",
   "mimetype": "text/x-python",
   "name": "python",
   "nbconvert_exporter": "python",
   "pygments_lexer": "ipython3",
   "version": "3.11.4"
  }
 },
 "nbformat": 4,
 "nbformat_minor": 5
}
